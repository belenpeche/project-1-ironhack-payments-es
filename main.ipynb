{
 "cells": [
  {
   "cell_type": "code",
   "execution_count": 1,
   "metadata": {},
   "outputs": [],
   "source": [
    "import pandas as pd\n",
    "import numpy as np\n",
    "import seaborn as sns\n",
    "import matplotlib.pyplot as plt"
   ]
  },
  {
   "cell_type": "code",
   "execution_count": 2,
   "metadata": {},
   "outputs": [
    {
     "data": {
      "text/html": [
       "<div>\n",
       "<style scoped>\n",
       "    .dataframe tbody tr th:only-of-type {\n",
       "        vertical-align: middle;\n",
       "    }\n",
       "\n",
       "    .dataframe tbody tr th {\n",
       "        vertical-align: top;\n",
       "    }\n",
       "\n",
       "    .dataframe thead th {\n",
       "        text-align: right;\n",
       "    }\n",
       "</style>\n",
       "<table border=\"1\" class=\"dataframe\">\n",
       "  <thead>\n",
       "    <tr style=\"text-align: right;\">\n",
       "      <th></th>\n",
       "      <th>id</th>\n",
       "      <th>amount</th>\n",
       "      <th>status</th>\n",
       "      <th>created_at</th>\n",
       "      <th>updated_at</th>\n",
       "      <th>user_id</th>\n",
       "      <th>moderated_at</th>\n",
       "      <th>deleted_account_id</th>\n",
       "      <th>reimbursement_date</th>\n",
       "      <th>cash_request_received_date</th>\n",
       "      <th>money_back_date</th>\n",
       "      <th>transfer_type</th>\n",
       "      <th>send_at</th>\n",
       "      <th>recovery_status</th>\n",
       "      <th>reco_creation</th>\n",
       "      <th>reco_last_update</th>\n",
       "    </tr>\n",
       "  </thead>\n",
       "  <tbody>\n",
       "    <tr>\n",
       "      <th>0</th>\n",
       "      <td>5</td>\n",
       "      <td>100.0</td>\n",
       "      <td>rejected</td>\n",
       "      <td>2019-12-10 19:05:21.596873+00</td>\n",
       "      <td>2019-12-11 16:47:42.40783+00</td>\n",
       "      <td>804.0</td>\n",
       "      <td>2019-12-11 16:47:42.405646+00</td>\n",
       "      <td>NaN</td>\n",
       "      <td>2020-01-09 19:05:21.596363+00</td>\n",
       "      <td>NaN</td>\n",
       "      <td>NaN</td>\n",
       "      <td>regular</td>\n",
       "      <td>NaN</td>\n",
       "      <td>NaN</td>\n",
       "      <td>NaN</td>\n",
       "      <td>NaN</td>\n",
       "    </tr>\n",
       "    <tr>\n",
       "      <th>1</th>\n",
       "      <td>70</td>\n",
       "      <td>100.0</td>\n",
       "      <td>rejected</td>\n",
       "      <td>2019-12-10 19:50:12.34778+00</td>\n",
       "      <td>2019-12-11 14:24:22.900054+00</td>\n",
       "      <td>231.0</td>\n",
       "      <td>2019-12-11 14:24:22.897988+00</td>\n",
       "      <td>NaN</td>\n",
       "      <td>2020-01-09 19:50:12.34778+00</td>\n",
       "      <td>NaN</td>\n",
       "      <td>NaN</td>\n",
       "      <td>regular</td>\n",
       "      <td>NaN</td>\n",
       "      <td>NaN</td>\n",
       "      <td>NaN</td>\n",
       "      <td>NaN</td>\n",
       "    </tr>\n",
       "    <tr>\n",
       "      <th>2</th>\n",
       "      <td>7</td>\n",
       "      <td>100.0</td>\n",
       "      <td>rejected</td>\n",
       "      <td>2019-12-10 19:13:35.82546+00</td>\n",
       "      <td>2019-12-11 09:46:59.779773+00</td>\n",
       "      <td>191.0</td>\n",
       "      <td>2019-12-11 09:46:59.777728+00</td>\n",
       "      <td>NaN</td>\n",
       "      <td>2020-01-09 19:13:35.825041+00</td>\n",
       "      <td>NaN</td>\n",
       "      <td>NaN</td>\n",
       "      <td>regular</td>\n",
       "      <td>NaN</td>\n",
       "      <td>NaN</td>\n",
       "      <td>NaN</td>\n",
       "      <td>NaN</td>\n",
       "    </tr>\n",
       "    <tr>\n",
       "      <th>3</th>\n",
       "      <td>10</td>\n",
       "      <td>99.0</td>\n",
       "      <td>rejected</td>\n",
       "      <td>2019-12-10 19:16:10.880172+00</td>\n",
       "      <td>2019-12-18 14:26:18.136163+00</td>\n",
       "      <td>761.0</td>\n",
       "      <td>2019-12-18 14:26:18.128407+00</td>\n",
       "      <td>NaN</td>\n",
       "      <td>2020-01-09 19:16:10.879606+00</td>\n",
       "      <td>NaN</td>\n",
       "      <td>NaN</td>\n",
       "      <td>regular</td>\n",
       "      <td>NaN</td>\n",
       "      <td>NaN</td>\n",
       "      <td>NaN</td>\n",
       "      <td>NaN</td>\n",
       "    </tr>\n",
       "    <tr>\n",
       "      <th>4</th>\n",
       "      <td>1594</td>\n",
       "      <td>100.0</td>\n",
       "      <td>rejected</td>\n",
       "      <td>2020-05-06 09:59:38.877376+00</td>\n",
       "      <td>2020-05-07 09:21:55.34008+00</td>\n",
       "      <td>7686.0</td>\n",
       "      <td>2020-05-07 09:21:55.320193+00</td>\n",
       "      <td>NaN</td>\n",
       "      <td>2020-06-05 22:00:00+00</td>\n",
       "      <td>NaN</td>\n",
       "      <td>NaN</td>\n",
       "      <td>regular</td>\n",
       "      <td>NaN</td>\n",
       "      <td>NaN</td>\n",
       "      <td>NaN</td>\n",
       "      <td>NaN</td>\n",
       "    </tr>\n",
       "  </tbody>\n",
       "</table>\n",
       "</div>"
      ],
      "text/plain": [
       "     id  amount    status                     created_at  \\\n",
       "0     5   100.0  rejected  2019-12-10 19:05:21.596873+00   \n",
       "1    70   100.0  rejected   2019-12-10 19:50:12.34778+00   \n",
       "2     7   100.0  rejected   2019-12-10 19:13:35.82546+00   \n",
       "3    10    99.0  rejected  2019-12-10 19:16:10.880172+00   \n",
       "4  1594   100.0  rejected  2020-05-06 09:59:38.877376+00   \n",
       "\n",
       "                      updated_at  user_id                   moderated_at  \\\n",
       "0   2019-12-11 16:47:42.40783+00    804.0  2019-12-11 16:47:42.405646+00   \n",
       "1  2019-12-11 14:24:22.900054+00    231.0  2019-12-11 14:24:22.897988+00   \n",
       "2  2019-12-11 09:46:59.779773+00    191.0  2019-12-11 09:46:59.777728+00   \n",
       "3  2019-12-18 14:26:18.136163+00    761.0  2019-12-18 14:26:18.128407+00   \n",
       "4   2020-05-07 09:21:55.34008+00   7686.0  2020-05-07 09:21:55.320193+00   \n",
       "\n",
       "   deleted_account_id             reimbursement_date  \\\n",
       "0                 NaN  2020-01-09 19:05:21.596363+00   \n",
       "1                 NaN   2020-01-09 19:50:12.34778+00   \n",
       "2                 NaN  2020-01-09 19:13:35.825041+00   \n",
       "3                 NaN  2020-01-09 19:16:10.879606+00   \n",
       "4                 NaN         2020-06-05 22:00:00+00   \n",
       "\n",
       "  cash_request_received_date money_back_date transfer_type send_at  \\\n",
       "0                        NaN             NaN       regular     NaN   \n",
       "1                        NaN             NaN       regular     NaN   \n",
       "2                        NaN             NaN       regular     NaN   \n",
       "3                        NaN             NaN       regular     NaN   \n",
       "4                        NaN             NaN       regular     NaN   \n",
       "\n",
       "  recovery_status reco_creation reco_last_update  \n",
       "0             NaN           NaN              NaN  \n",
       "1             NaN           NaN              NaN  \n",
       "2             NaN           NaN              NaN  \n",
       "3             NaN           NaN              NaN  \n",
       "4             NaN           NaN              NaN  "
      ]
     },
     "execution_count": 2,
     "metadata": {},
     "output_type": "execute_result"
    }
   ],
   "source": [
    "cash = pd.read_csv('./project_dataset/extract - cash request - data analyst.csv')\n",
    "fees = pd.read_csv('./project_dataset/extract - fees - data analyst - .csv')\n",
    "cash.head(5)"
   ]
  },
  {
   "cell_type": "code",
   "execution_count": 3,
   "metadata": {},
   "outputs": [
    {
     "name": "stdout",
     "output_type": "stream",
     "text": [
      "<class 'pandas.core.frame.DataFrame'>\n",
      "RangeIndex: 23970 entries, 0 to 23969\n",
      "Data columns (total 16 columns):\n",
      " #   Column                      Non-Null Count  Dtype  \n",
      "---  ------                      --------------  -----  \n",
      " 0   id                          23970 non-null  int64  \n",
      " 1   amount                      23970 non-null  float64\n",
      " 2   status                      23970 non-null  object \n",
      " 3   created_at                  23970 non-null  object \n",
      " 4   updated_at                  23970 non-null  object \n",
      " 5   user_id                     21867 non-null  float64\n",
      " 6   moderated_at                16035 non-null  object \n",
      " 7   deleted_account_id          2104 non-null   float64\n",
      " 8   reimbursement_date          23970 non-null  object \n",
      " 9   cash_request_received_date  16289 non-null  object \n",
      " 10  money_back_date             16543 non-null  object \n",
      " 11  transfer_type               23970 non-null  object \n",
      " 12  send_at                     16641 non-null  object \n",
      " 13  recovery_status             3330 non-null   object \n",
      " 14  reco_creation               3330 non-null   object \n",
      " 15  reco_last_update            3330 non-null   object \n",
      "dtypes: float64(3), int64(1), object(12)\n",
      "memory usage: 2.9+ MB\n"
     ]
    }
   ],
   "source": [
    "cash.info()"
   ]
  },
  {
   "cell_type": "code",
   "execution_count": 4,
   "metadata": {},
   "outputs": [
    {
     "name": "stdout",
     "output_type": "stream",
     "text": [
      "<class 'pandas.core.frame.DataFrame'>\n",
      "RangeIndex: 21061 entries, 0 to 21060\n",
      "Data columns (total 13 columns):\n",
      " #   Column           Non-Null Count  Dtype  \n",
      "---  ------           --------------  -----  \n",
      " 0   id               21061 non-null  int64  \n",
      " 1   cash_request_id  21057 non-null  float64\n",
      " 2   type             21061 non-null  object \n",
      " 3   status           21061 non-null  object \n",
      " 4   category         2196 non-null   object \n",
      " 5   total_amount     21061 non-null  float64\n",
      " 6   reason           21061 non-null  object \n",
      " 7   created_at       21061 non-null  object \n",
      " 8   updated_at       21061 non-null  object \n",
      " 9   paid_at          15531 non-null  object \n",
      " 10  from_date        7766 non-null   object \n",
      " 11  to_date          7766 non-null   object \n",
      " 12  charge_moment    21061 non-null  object \n",
      "dtypes: float64(2), int64(1), object(10)\n",
      "memory usage: 2.1+ MB\n"
     ]
    }
   ],
   "source": [
    "fees.info()"
   ]
  },
  {
   "cell_type": "code",
   "execution_count": 5,
   "metadata": {},
   "outputs": [
    {
     "data": {
      "text/plain": [
       "status\n",
       "active                      59\n",
       "canceled                    33\n",
       "direct_debit_rejected      831\n",
       "direct_debit_sent           34\n",
       "money_back               16397\n",
       "rejected                  6568\n",
       "transaction_declined        48\n",
       "Name: status, dtype: int64"
      ]
     },
     "execution_count": 5,
     "metadata": {},
     "output_type": "execute_result"
    }
   ],
   "source": [
    "# Status\n",
    "cash_status = cash.groupby('status')['status'].count()\n",
    "cash_status"
   ]
  },
  {
   "cell_type": "markdown",
   "metadata": {},
   "source": [
    "FREQUENCY OF USE"
   ]
  },
  {
   "cell_type": "code",
   "execution_count": 6,
   "metadata": {},
   "outputs": [
    {
     "data": {
      "text/html": [
       "<div>\n",
       "<style scoped>\n",
       "    .dataframe tbody tr th:only-of-type {\n",
       "        vertical-align: middle;\n",
       "    }\n",
       "\n",
       "    .dataframe tbody tr th {\n",
       "        vertical-align: top;\n",
       "    }\n",
       "\n",
       "    .dataframe thead th {\n",
       "        text-align: right;\n",
       "    }\n",
       "</style>\n",
       "<table border=\"1\" class=\"dataframe\">\n",
       "  <thead>\n",
       "    <tr style=\"text-align: right;\">\n",
       "      <th></th>\n",
       "      <th>user_id</th>\n",
       "      <th>created_at</th>\n",
       "    </tr>\n",
       "  </thead>\n",
       "  <tbody>\n",
       "    <tr>\n",
       "      <th>0</th>\n",
       "      <td>34.0</td>\n",
       "      <td>2020-04-20 15:50:21.187257+00:00</td>\n",
       "    </tr>\n",
       "    <tr>\n",
       "      <th>1</th>\n",
       "      <td>35.0</td>\n",
       "      <td>2019-12-13 20:27:38.106778+00:00</td>\n",
       "    </tr>\n",
       "    <tr>\n",
       "      <th>2</th>\n",
       "      <td>35.0</td>\n",
       "      <td>2019-12-28 04:00:22.349592+00:00</td>\n",
       "    </tr>\n",
       "    <tr>\n",
       "      <th>3</th>\n",
       "      <td>35.0</td>\n",
       "      <td>2020-01-27 19:50:46.387431+00:00</td>\n",
       "    </tr>\n",
       "    <tr>\n",
       "      <th>4</th>\n",
       "      <td>35.0</td>\n",
       "      <td>2020-02-28 10:51:11.440880+00:00</td>\n",
       "    </tr>\n",
       "    <tr>\n",
       "      <th>5</th>\n",
       "      <td>35.0</td>\n",
       "      <td>2020-03-17 07:28:11.282767+00:00</td>\n",
       "    </tr>\n",
       "    <tr>\n",
       "      <th>6</th>\n",
       "      <td>35.0</td>\n",
       "      <td>2020-08-17 13:19:41.318905+00:00</td>\n",
       "    </tr>\n",
       "    <tr>\n",
       "      <th>7</th>\n",
       "      <td>35.0</td>\n",
       "      <td>2020-09-19 10:25:54.265935+00:00</td>\n",
       "    </tr>\n",
       "    <tr>\n",
       "      <th>8</th>\n",
       "      <td>47.0</td>\n",
       "      <td>2019-11-19 13:57:53.511561+00:00</td>\n",
       "    </tr>\n",
       "  </tbody>\n",
       "</table>\n",
       "</div>"
      ],
      "text/plain": [
       "   user_id                       created_at\n",
       "0     34.0 2020-04-20 15:50:21.187257+00:00\n",
       "1     35.0 2019-12-13 20:27:38.106778+00:00\n",
       "2     35.0 2019-12-28 04:00:22.349592+00:00\n",
       "3     35.0 2020-01-27 19:50:46.387431+00:00\n",
       "4     35.0 2020-02-28 10:51:11.440880+00:00\n",
       "5     35.0 2020-03-17 07:28:11.282767+00:00\n",
       "6     35.0 2020-08-17 13:19:41.318905+00:00\n",
       "7     35.0 2020-09-19 10:25:54.265935+00:00\n",
       "8     47.0 2019-11-19 13:57:53.511561+00:00"
      ]
     },
     "execution_count": 6,
     "metadata": {},
     "output_type": "execute_result"
    }
   ],
   "source": [
    "# Convert 'created_at' to datetime\n",
    "cash['created_at'] = pd.to_datetime(cash['created_at'])\n",
    "\n",
    "# Sort by 'created_id'\n",
    "user_operation = cash[['user_id', 'created_at', 'amount']].groupby(['user_id', 'created_at', 'amount']).count().reset_index()\n",
    "user_operation.loc[:8, ['user_id', 'created_at']]"
   ]
  },
  {
   "cell_type": "code",
   "execution_count": 7,
   "metadata": {},
   "outputs": [
    {
     "name": "stderr",
     "output_type": "stream",
     "text": [
      "C:\\Users\\ivani\\AppData\\Local\\Temp\\ipykernel_1640\\947344678.py:3: UserWarning: Converting to PeriodArray/Index representation will drop timezone information.\n",
      "  first_operations['month_creation'] = first_operations['created_at'].dt.to_period('M')\n",
      "C:\\Users\\ivani\\AppData\\Local\\Temp\\ipykernel_1640\\947344678.py:3: SettingWithCopyWarning: \n",
      "A value is trying to be set on a copy of a slice from a DataFrame.\n",
      "Try using .loc[row_indexer,col_indexer] = value instead\n",
      "\n",
      "See the caveats in the documentation: https://pandas.pydata.org/pandas-docs/stable/user_guide/indexing.html#returning-a-view-versus-a-copy\n",
      "  first_operations['month_creation'] = first_operations['created_at'].dt.to_period('M')\n"
     ]
    },
    {
     "data": {
      "text/html": [
       "<div>\n",
       "<style scoped>\n",
       "    .dataframe tbody tr th:only-of-type {\n",
       "        vertical-align: middle;\n",
       "    }\n",
       "\n",
       "    .dataframe tbody tr th {\n",
       "        vertical-align: top;\n",
       "    }\n",
       "\n",
       "    .dataframe thead th {\n",
       "        text-align: right;\n",
       "    }\n",
       "</style>\n",
       "<table border=\"1\" class=\"dataframe\">\n",
       "  <thead>\n",
       "    <tr style=\"text-align: right;\">\n",
       "      <th></th>\n",
       "      <th>user_id</th>\n",
       "      <th>created_at</th>\n",
       "      <th>amount</th>\n",
       "      <th>month_creation</th>\n",
       "    </tr>\n",
       "  </thead>\n",
       "  <tbody>\n",
       "    <tr>\n",
       "      <th>0</th>\n",
       "      <td>34.0</td>\n",
       "      <td>2020-04-20 15:50:21.187257+00:00</td>\n",
       "      <td>100.0</td>\n",
       "      <td>2020-04</td>\n",
       "    </tr>\n",
       "    <tr>\n",
       "      <th>1</th>\n",
       "      <td>35.0</td>\n",
       "      <td>2019-12-13 20:27:38.106778+00:00</td>\n",
       "      <td>100.0</td>\n",
       "      <td>2019-12</td>\n",
       "    </tr>\n",
       "    <tr>\n",
       "      <th>8</th>\n",
       "      <td>47.0</td>\n",
       "      <td>2019-11-19 13:57:53.511561+00:00</td>\n",
       "      <td>1.0</td>\n",
       "      <td>2019-11</td>\n",
       "    </tr>\n",
       "    <tr>\n",
       "      <th>16</th>\n",
       "      <td>52.0</td>\n",
       "      <td>2019-12-17 09:01:12.584634+00:00</td>\n",
       "      <td>100.0</td>\n",
       "      <td>2019-12</td>\n",
       "    </tr>\n",
       "    <tr>\n",
       "      <th>20</th>\n",
       "      <td>53.0</td>\n",
       "      <td>2019-12-21 11:39:03.844436+00:00</td>\n",
       "      <td>100.0</td>\n",
       "      <td>2019-12</td>\n",
       "    </tr>\n",
       "    <tr>\n",
       "      <th>...</th>\n",
       "      <td>...</td>\n",
       "      <td>...</td>\n",
       "      <td>...</td>\n",
       "      <td>...</td>\n",
       "    </tr>\n",
       "    <tr>\n",
       "      <th>21862</th>\n",
       "      <td>103425.0</td>\n",
       "      <td>2020-11-01 20:31:53.965482+00:00</td>\n",
       "      <td>100.0</td>\n",
       "      <td>2020-11</td>\n",
       "    </tr>\n",
       "    <tr>\n",
       "      <th>21863</th>\n",
       "      <td>103437.0</td>\n",
       "      <td>2020-11-01 19:35:00.540424+00:00</td>\n",
       "      <td>100.0</td>\n",
       "      <td>2020-11</td>\n",
       "    </tr>\n",
       "    <tr>\n",
       "      <th>21864</th>\n",
       "      <td>103496.0</td>\n",
       "      <td>2020-11-01 19:30:26.434400+00:00</td>\n",
       "      <td>100.0</td>\n",
       "      <td>2020-11</td>\n",
       "    </tr>\n",
       "    <tr>\n",
       "      <th>21865</th>\n",
       "      <td>103503.0</td>\n",
       "      <td>2020-11-01 20:12:26.857203+00:00</td>\n",
       "      <td>50.0</td>\n",
       "      <td>2020-11</td>\n",
       "    </tr>\n",
       "    <tr>\n",
       "      <th>21866</th>\n",
       "      <td>103719.0</td>\n",
       "      <td>2020-11-01 23:06:44.582445+00:00</td>\n",
       "      <td>100.0</td>\n",
       "      <td>2020-11</td>\n",
       "    </tr>\n",
       "  </tbody>\n",
       "</table>\n",
       "<p>10798 rows × 4 columns</p>\n",
       "</div>"
      ],
      "text/plain": [
       "        user_id                       created_at  amount month_creation\n",
       "0          34.0 2020-04-20 15:50:21.187257+00:00   100.0        2020-04\n",
       "1          35.0 2019-12-13 20:27:38.106778+00:00   100.0        2019-12\n",
       "8          47.0 2019-11-19 13:57:53.511561+00:00     1.0        2019-11\n",
       "16         52.0 2019-12-17 09:01:12.584634+00:00   100.0        2019-12\n",
       "20         53.0 2019-12-21 11:39:03.844436+00:00   100.0        2019-12\n",
       "...         ...                              ...     ...            ...\n",
       "21862  103425.0 2020-11-01 20:31:53.965482+00:00   100.0        2020-11\n",
       "21863  103437.0 2020-11-01 19:35:00.540424+00:00   100.0        2020-11\n",
       "21864  103496.0 2020-11-01 19:30:26.434400+00:00   100.0        2020-11\n",
       "21865  103503.0 2020-11-01 20:12:26.857203+00:00    50.0        2020-11\n",
       "21866  103719.0 2020-11-01 23:06:44.582445+00:00   100.0        2020-11\n",
       "\n",
       "[10798 rows x 4 columns]"
      ]
     },
     "execution_count": 7,
     "metadata": {},
     "output_type": "execute_result"
    }
   ],
   "source": [
    "# Take the first operations of each client\n",
    "first_operations = user_operation.drop_duplicates(subset='user_id')\n",
    "first_operations['month_creation'] = first_operations['created_at'].dt.to_period('M')\n",
    "first_operations"
   ]
  },
  {
   "cell_type": "code",
   "execution_count": 8,
   "metadata": {},
   "outputs": [
    {
     "data": {
      "image/png": "[encoded data removed]",
      "text/plain": [
       "<Figure size 640x480 with 1 Axes>"
      ]
     },
     "metadata": {},
     "output_type": "display_data"
    }
   ],
   "source": [
    "user_sample = cash[cash['user_id'] == 35].sort_values(by='created_at')\n",
    "user_sample.plot(x='created_at', y='amount', kind='bar')\n",
    "plt.title('Cash request of user_id sampled')\n",
    "plt.ylabel('Amount')\n",
    "plt.xlabel('Date')\n",
    "plt.show()"
   ]
  },
  {
   "cell_type": "code",
   "execution_count": 9,
   "metadata": {},
   "outputs": [
    {
     "data": {
      "text/plain": [
       "58      100.0\n",
       "180     190.0\n",
       "345     280.0\n",
       "91      370.0\n",
       "670     470.0\n",
       "5298    570.0\n",
       "6842    620.0\n",
       "Name: amount, dtype: float64"
      ]
     },
     "execution_count": 9,
     "metadata": {},
     "output_type": "execute_result"
    }
   ],
   "source": [
    "total_amount_sample = user_sample['amount'].cumsum()\n",
    "total_amount_sample"
   ]
  },
  {
   "cell_type": "code",
   "execution_count": 10,
   "metadata": {},
   "outputs": [
    {
     "data": {
      "text/plain": [
       "<Axes: xlabel='created_at'>"
      ]
     },
     "execution_count": 10,
     "metadata": {},
     "output_type": "execute_result"
    },
    {
     "data": {
      "image/png": "[encoded data removed]",
      "text/plain": [
       "<Figure size 640x480 with 1 Axes>"
      ]
     },
     "metadata": {},
     "output_type": "display_data"
    }
   ],
   "source": [
    "pivot_data = user_sample.pivot_table(values='amount', index='created_at')\n",
    "pivot_data.plot()"
   ]
  },
  {
   "cell_type": "code",
   "execution_count": 15,
   "metadata": {},
   "outputs": [
    {
     "data": {
      "text/plain": [
       "<Axes: xlabel='month_creation'>"
      ]
     },
     "execution_count": 15,
     "metadata": {},
     "output_type": "execute_result"
    },
    {
     "data": {
      "image/png": "[encoded data removed]",
      "text/plain": [
       "<Figure size 640x480 with 1 Axes>"
      ]
     },
     "metadata": {},
     "output_type": "display_data"
    }
   ],
   "source": [
    "first_amount = first_operations.groupby('month_creation')['amount'].sum()\n",
    "first_count = first_operations.groupby('month_creation')['user_id'].count()\n",
    "first_count.plot(kind='bar')"
   ]
  },
  {
   "cell_type": "code",
   "execution_count": 13,
   "metadata": {},
   "outputs": [
    {
     "data": {
      "text/plain": [
       "<Axes: xlabel='month_creation'>"
      ]
     },
     "execution_count": 13,
     "metadata": {},
     "output_type": "execute_result"
    },
    {
     "data": {
      "image/png": "[encoded data removed]",
      "text/plain": [
       "<Figure size 640x480 with 1 Axes>"
      ]
     },
     "metadata": {},
     "output_type": "display_data"
    }
   ],
   "source": [
    "first_amount.plot(kind='bar')"
   ]
  },
  {
   "cell_type": "code",
   "execution_count": 14,
   "metadata": {},
   "outputs": [
    {
     "data": {
      "text/html": [
       "<div>\n",
       "<style scoped>\n",
       "    .dataframe tbody tr th:only-of-type {\n",
       "        vertical-align: middle;\n",
       "    }\n",
       "\n",
       "    .dataframe tbody tr th {\n",
       "        vertical-align: top;\n",
       "    }\n",
       "\n",
       "    .dataframe thead th {\n",
       "        text-align: right;\n",
       "    }\n",
       "</style>\n",
       "<table border=\"1\" class=\"dataframe\">\n",
       "  <thead>\n",
       "    <tr style=\"text-align: right;\">\n",
       "      <th></th>\n",
       "      <th>user_id</th>\n",
       "      <th>created_at</th>\n",
       "      <th>amount</th>\n",
       "      <th>month_creation</th>\n",
       "    </tr>\n",
       "  </thead>\n",
       "  <tbody>\n",
       "    <tr>\n",
       "      <th>10024</th>\n",
       "      <td>21056.0</td>\n",
       "      <td>2020-11-01 12:16:07.470936+00:00</td>\n",
       "      <td>50.0</td>\n",
       "      <td>2020-11</td>\n",
       "    </tr>\n",
       "    <tr>\n",
       "      <th>12195</th>\n",
       "      <td>28349.0</td>\n",
       "      <td>2020-11-01 12:13:33.457130+00:00</td>\n",
       "      <td>50.0</td>\n",
       "      <td>2020-11</td>\n",
       "    </tr>\n",
       "    <tr>\n",
       "      <th>13120</th>\n",
       "      <td>32075.0</td>\n",
       "      <td>2020-11-01 13:23:58.611194+00:00</td>\n",
       "      <td>50.0</td>\n",
       "      <td>2020-11</td>\n",
       "    </tr>\n",
       "    <tr>\n",
       "      <th>13305</th>\n",
       "      <td>32742.0</td>\n",
       "      <td>2020-11-01 09:10:19.324784+00:00</td>\n",
       "      <td>50.0</td>\n",
       "      <td>2020-11</td>\n",
       "    </tr>\n",
       "    <tr>\n",
       "      <th>15395</th>\n",
       "      <td>39919.0</td>\n",
       "      <td>2020-11-01 12:18:43.421097+00:00</td>\n",
       "      <td>100.0</td>\n",
       "      <td>2020-11</td>\n",
       "    </tr>\n",
       "    <tr>\n",
       "      <th>...</th>\n",
       "      <td>...</td>\n",
       "      <td>...</td>\n",
       "      <td>...</td>\n",
       "      <td>...</td>\n",
       "    </tr>\n",
       "    <tr>\n",
       "      <th>21862</th>\n",
       "      <td>103425.0</td>\n",
       "      <td>2020-11-01 20:31:53.965482+00:00</td>\n",
       "      <td>100.0</td>\n",
       "      <td>2020-11</td>\n",
       "    </tr>\n",
       "    <tr>\n",
       "      <th>21863</th>\n",
       "      <td>103437.0</td>\n",
       "      <td>2020-11-01 19:35:00.540424+00:00</td>\n",
       "      <td>100.0</td>\n",
       "      <td>2020-11</td>\n",
       "    </tr>\n",
       "    <tr>\n",
       "      <th>21864</th>\n",
       "      <td>103496.0</td>\n",
       "      <td>2020-11-01 19:30:26.434400+00:00</td>\n",
       "      <td>100.0</td>\n",
       "      <td>2020-11</td>\n",
       "    </tr>\n",
       "    <tr>\n",
       "      <th>21865</th>\n",
       "      <td>103503.0</td>\n",
       "      <td>2020-11-01 20:12:26.857203+00:00</td>\n",
       "      <td>50.0</td>\n",
       "      <td>2020-11</td>\n",
       "    </tr>\n",
       "    <tr>\n",
       "      <th>21866</th>\n",
       "      <td>103719.0</td>\n",
       "      <td>2020-11-01 23:06:44.582445+00:00</td>\n",
       "      <td>100.0</td>\n",
       "      <td>2020-11</td>\n",
       "    </tr>\n",
       "  </tbody>\n",
       "</table>\n",
       "<p>75 rows × 4 columns</p>\n",
       "</div>"
      ],
      "text/plain": [
       "        user_id                       created_at  amount month_creation\n",
       "10024   21056.0 2020-11-01 12:16:07.470936+00:00    50.0        2020-11\n",
       "12195   28349.0 2020-11-01 12:13:33.457130+00:00    50.0        2020-11\n",
       "13120   32075.0 2020-11-01 13:23:58.611194+00:00    50.0        2020-11\n",
       "13305   32742.0 2020-11-01 09:10:19.324784+00:00    50.0        2020-11\n",
       "15395   39919.0 2020-11-01 12:18:43.421097+00:00   100.0        2020-11\n",
       "...         ...                              ...     ...            ...\n",
       "21862  103425.0 2020-11-01 20:31:53.965482+00:00   100.0        2020-11\n",
       "21863  103437.0 2020-11-01 19:35:00.540424+00:00   100.0        2020-11\n",
       "21864  103496.0 2020-11-01 19:30:26.434400+00:00   100.0        2020-11\n",
       "21865  103503.0 2020-11-01 20:12:26.857203+00:00    50.0        2020-11\n",
       "21866  103719.0 2020-11-01 23:06:44.582445+00:00   100.0        2020-11\n",
       "\n",
       "[75 rows x 4 columns]"
      ]
     },
     "execution_count": 14,
     "metadata": {},
     "output_type": "execute_result"
    }
   ],
   "source": [
    "# Filtrar el Data Frame\n",
    "first_cohorte = first_operations[(first_operations['month_creation'] == '2020-11') & (first_operations['amount'] > 0)]\n",
    "first_cohorte"
   ]
  }
 ],
 "metadata": {
  "kernelspec": {
   "display_name": "py39_kaggle",
   "language": "python",
   "name": "python3"
  },
  "language_info": {
   "codemirror_mode": {
    "name": "ipython",
    "version": 3
   },
   "file_extension": ".py",
   "mimetype": "text/x-python",
   "name": "python",
   "nbconvert_exporter": "python",
   "pygments_lexer": "ipython3",
   "version": "3.9.18"
  }
 },
 "nbformat": 4,
 "nbformat_minor": 2
}
